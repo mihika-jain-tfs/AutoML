{
  "nbformat": 4,
  "nbformat_minor": 0,
  "metadata": {
    "colab": {
      "provenance": []
    },
    "kernelspec": {
      "name": "python3",
      "display_name": "Python 3"
    },
    "language_info": {
      "name": "python"
    }
  },
  "cells": [
    {
      "cell_type": "markdown",
      "source": [
        "# Imports"
      ],
      "metadata": {
        "id": "r-OxIjQbP26u"
      }
    },
    {
      "cell_type": "code",
      "source": [
        "# basic imports for preprocessing of numerical data\n",
        "import numpy as np\n",
        "import pandas as pd\n",
        "from sklearn.preprocessing import StandardScaler\n",
        "from sklearn.model_selection import train_test_split\n",
        "import seaborn as sns\n",
        "from numpy import NaN\n",
        "import matplotlib.pyplot as plt"
      ],
      "metadata": {
        "id": "qFBHIJb6P6sN"
      },
      "execution_count": null,
      "outputs": []
    },
    {
      "cell_type": "code",
      "source": [],
      "metadata": {
        "id": "eRdGOHoUQe_5"
      },
      "execution_count": null,
      "outputs": []
    },
    {
      "cell_type": "markdown",
      "source": [
        "# Data Collection and Preprocessing"
      ],
      "metadata": {
        "id": "bUBops3lnzSL"
      }
    },
    {
      "cell_type": "markdown",
      "source": [
        "## Import dataframe"
      ],
      "metadata": {
        "id": "MEthybswyjpm"
      }
    },
    {
      "cell_type": "code",
      "source": [
        "# import the dataset\n",
        "df = pd.read_csv('/content/Covid Data.csv')\n",
        "df1 = df"
      ],
      "metadata": {
        "id": "Ym-xEItWn3k6"
      },
      "execution_count": null,
      "outputs": []
    },
    {
      "cell_type": "markdown",
      "source": [
        "## Handling missing values"
      ],
      "metadata": {
        "id": "UeoEIIfZyO-f"
      }
    },
    {
      "cell_type": "code",
      "source": [
        "df[\"DEATH\"] = [2 if each==\"9999-99-99\" else 1 for each in df.DATE_DIED]\n",
        "df.to_csv('covid_DirtyData.csv')"
      ],
      "metadata": {
        "id": "x1ZORPg7p1FH"
      },
      "execution_count": null,
      "outputs": []
    },
    {
      "cell_type": "code",
      "source": [
        "for column in df.columns:\n",
        "    print('Count in {}'.format(column))\n",
        "    print(df[column].value_counts(dropna=False))\n",
        "    print(\"  \\n\")"
      ],
      "metadata": {
        "colab": {
          "base_uri": "https://localhost:8080/"
        },
        "id": "XRGiZbfjp-Qz",
        "outputId": "8324fc8e-bfa4-4242-994b-b723ebf9b8db"
      },
      "execution_count": null,
      "outputs": [
        {
          "output_type": "stream",
          "name": "stdout",
          "text": [
            "Count in USMER\n",
            "2    237256\n",
            "1    184297\n",
            "Name: USMER, dtype: int64\n",
            "  \n",
            "\n",
            "Count in MEDICAL_UNIT\n",
            "4    314405\n",
            "6     40584\n",
            "9     28535\n",
            "3     19175\n",
            "8     10399\n",
            "5      7244\n",
            "7       891\n",
            "2       169\n",
            "1       151\n",
            "Name: MEDICAL_UNIT, dtype: int64\n",
            "  \n",
            "\n",
            "Count in SEX\n",
            "2    211693\n",
            "1    209860\n",
            "Name: SEX, dtype: int64\n",
            "  \n",
            "\n",
            "Count in PATIENT_TYPE\n",
            "1    297949\n",
            "2    123604\n",
            "Name: PATIENT_TYPE, dtype: int64\n",
            "  \n",
            "\n",
            "Count in DATE_DIED\n",
            "9999-99-99    371169\n",
            "16/06/20         666\n",
            "07/07/20         665\n",
            "06/07/20         647\n",
            "29/06/20         647\n",
            "               ...  \n",
            "15/11/20           1\n",
            "12/11/20           1\n",
            "06/11/20           1\n",
            "30/10/20           1\n",
            "20/04/21           1\n",
            "Name: DATE_DIED, Length: 363, dtype: int64\n",
            "  \n",
            "\n",
            "Count in INTUBED\n",
            "97    297949\n",
            "2      97552\n",
            "1      22475\n",
            "99      3577\n",
            "Name: INTUBED, dtype: int64\n",
            "  \n",
            "\n",
            "Count in PNEUMONIA\n",
            "2     334039\n",
            "1      77929\n",
            "99      9585\n",
            "Name: PNEUMONIA, dtype: int64\n",
            "  \n",
            "\n",
            "Count in AGE\n",
            "30     10496\n",
            "31     10279\n",
            "37     10097\n",
            "35     10088\n",
            "32     10075\n",
            "       ...  \n",
            "107        1\n",
            "105        1\n",
            "116        1\n",
            "119        1\n",
            "106        1\n",
            "Name: AGE, Length: 114, dtype: int64\n",
            "  \n",
            "\n",
            "Count in PREGNANT\n",
            "97    211693\n",
            "2     205913\n",
            "1       3220\n",
            "98       727\n",
            "Name: PREGNANT, dtype: int64\n",
            "  \n",
            "\n",
            "Count in DIABETES\n",
            "2.0     357220\n",
            "1.0      63169\n",
            "98.0      1163\n",
            "NaN          1\n",
            "Name: DIABETES, dtype: int64\n",
            "  \n",
            "\n",
            "Count in COPD\n",
            "2.0     412115\n",
            "1.0       8356\n",
            "98.0      1081\n",
            "NaN          1\n",
            "Name: COPD, dtype: int64\n",
            "  \n",
            "\n",
            "Count in ASTHMA\n",
            "2.0     406303\n",
            "1.0      14155\n",
            "98.0      1094\n",
            "NaN          1\n",
            "Name: ASTHMA, dtype: int64\n",
            "  \n",
            "\n",
            "Count in INMSUPR\n",
            "2.0     412643\n",
            "1.0       7574\n",
            "98.0      1335\n",
            "NaN          1\n",
            "Name: INMSUPR, dtype: int64\n",
            "  \n",
            "\n",
            "Count in HIPERTENSION\n",
            "2.0     337043\n",
            "1.0      83405\n",
            "98.0      1104\n",
            "NaN          1\n",
            "Name: HIPERTENSION, dtype: int64\n",
            "  \n",
            "\n",
            "Count in OTHER_DISEASE\n",
            "2.0     399719\n",
            "1.0      20371\n",
            "98.0      1462\n",
            "NaN          1\n",
            "Name: OTHER_DISEASE, dtype: int64\n",
            "  \n",
            "\n",
            "Count in CARDIOVASCULAR\n",
            "2.0     409883\n",
            "1.0      10565\n",
            "98.0      1104\n",
            "NaN          1\n",
            "Name: CARDIOVASCULAR, dtype: int64\n",
            "  \n",
            "\n",
            "Count in OBESITY\n",
            "2.0     349840\n",
            "1.0      70733\n",
            "98.0       979\n",
            "NaN          1\n",
            "Name: OBESITY, dtype: int64\n",
            "  \n",
            "\n",
            "Count in RENAL_CHRONIC\n",
            "2.0     408561\n",
            "1.0      11897\n",
            "98.0      1094\n",
            "NaN          1\n",
            "Name: RENAL_CHRONIC, dtype: int64\n",
            "  \n",
            "\n",
            "Count in TOBACCO\n",
            "2.0     387826\n",
            "1.0      32505\n",
            "98.0      1221\n",
            "NaN          1\n",
            "Name: TOBACCO, dtype: int64\n",
            "  \n",
            "\n",
            "Count in CLASIFFICATION_FINAL\n",
            "3.0    171736\n",
            "7.0    156621\n",
            "6.0     78443\n",
            "5.0     10296\n",
            "1.0      2772\n",
            "2.0      1358\n",
            "4.0       326\n",
            "NaN         1\n",
            "Name: CLASIFFICATION_FINAL, dtype: int64\n",
            "  \n",
            "\n",
            "Count in ICU\n",
            "97.0    297948\n",
            "2.0     113118\n",
            "1.0       6873\n",
            "99.0      3613\n",
            "NaN          1\n",
            "Name: ICU, dtype: int64\n",
            "  \n",
            "\n",
            "Count in DEATH\n",
            "2    371169\n",
            "1     50384\n",
            "Name: DEATH, dtype: int64\n",
            "  \n",
            "\n"
          ]
        }
      ]
    },
    {
      "cell_type": "code",
      "source": [
        "df = df.replace({'INTUBED': [97,99], 'PNEUMONIA': 99, 'DIABETES': 98, 'COPD': 98, 'ASTHMA': 98, 'INMSUPR': 98, 'HYPERTENSION': 98, 'OTHER_DISEASE': 98, 'CARDIOVASCULAR': 98, 'OBESITY':98, 'RENAL_CHRONIC': 98, 'TOBACCO': 98, 'ICU': [97,99], 'DIABETES': 98},\n",
        "                 {'INTUBED': NaN, 'PNEUMONIA': NaN, 'DIABETES': NaN, 'COPD': NaN, 'ASTHMA': NaN, 'INMSUPR': NaN, 'HYPERTENSION': NaN, 'OTHER_DISEASE': NaN, 'CARDIOVASCULAR': NaN, 'OBESITY':NaN, 'RENAL_CHRONIC': NaN, 'TOBACCO': NaN, 'ICU': NaN , 'DIABETES': NaN})"
      ],
      "metadata": {
        "id": "1bXJTNTLFAz5"
      },
      "execution_count": null,
      "outputs": []
    },
    {
      "cell_type": "code",
      "source": [
        "sns.heatmap(df.isnull(),yticklabels=False,cbar=False,cmap='viridis')"
      ],
      "metadata": {
        "colab": {
          "base_uri": "https://localhost:8080/",
          "height": 387
        },
        "id": "tdZsxDqaOStR",
        "outputId": "0a573532-8d84-46af-edfd-48e1eaa55627"
      },
      "execution_count": null,
      "outputs": [
        {
          "output_type": "execute_result",
          "data": {
            "text/plain": [
              "<matplotlib.axes._subplots.AxesSubplot at 0x7f99b37fe340>"
            ]
          },
          "metadata": {},
          "execution_count": 6
        },
        {
          "output_type": "display_data",
          "data": {
            "text/plain": [
              "<Figure size 432x288 with 1 Axes>"
            ],
            "image/png": "[encoded data removed]"
          },
          "metadata": {
            "needs_background": "light"
          }
        }
      ]
    },
    {
      "cell_type": "code",
      "source": [
        "df['PREGNANT'] = df['PREGNANT'].replace(97, 2)\n",
        "df = df[(df.PREGNANT == 1) | (df.PREGNANT == 2)]"
      ],
      "metadata": {
        "id": "_gLKrB6FWn6J"
      },
      "execution_count": null,
      "outputs": []
    },
    {
      "cell_type": "code",
      "source": [
        "df = df.drop(['ICU', 'INTUBED', 'DATE_DIED'], axis=1)"
      ],
      "metadata": {
        "id": "mx25gDsBWoUD"
      },
      "execution_count": null,
      "outputs": []
    },
    {
      "cell_type": "code",
      "source": [
        "df = df.dropna()"
      ],
      "metadata": {
        "id": "_mkAm1GOWorj"
      },
      "execution_count": null,
      "outputs": []
    },
    {
      "cell_type": "code",
      "source": [
        "df.shape"
      ],
      "metadata": {
        "colab": {
          "base_uri": "https://localhost:8080/"
        },
        "id": "TKCRc9NvYW9y",
        "outputId": "c20e5ee0-d22c-4dab-dd56-222758992770"
      },
      "execution_count": null,
      "outputs": [
        {
          "output_type": "execute_result",
          "data": {
            "text/plain": [
              "(409409, 19)"
            ]
          },
          "metadata": {},
          "execution_count": 10
        }
      ]
    },
    {
      "cell_type": "code",
      "source": [],
      "metadata": {
        "id": "tXR3CSRGs-j7"
      },
      "execution_count": null,
      "outputs": []
    },
    {
      "cell_type": "markdown",
      "source": [
        "## Standardization"
      ],
      "metadata": {
        "id": "qli9F0Eyy23x"
      }
    },
    {
      "cell_type": "code",
      "source": [
        "# scaler = StandardScaler()"
      ],
      "metadata": {
        "id": "XRu7yzVvy6jE"
      },
      "execution_count": null,
      "outputs": []
    },
    {
      "cell_type": "code",
      "source": [
        "# scaler.fit_transform(df)"
      ],
      "metadata": {
        "id": "28TBh0oy1B0x"
      },
      "execution_count": null,
      "outputs": []
    },
    {
      "cell_type": "code",
      "source": [],
      "metadata": {
        "id": "rNzK2uYU1H8c"
      },
      "execution_count": null,
      "outputs": []
    },
    {
      "cell_type": "markdown",
      "source": [
        "## Correlation"
      ],
      "metadata": {
        "id": "rAfo8Uw7I1C8"
      }
    },
    {
      "cell_type": "code",
      "source": [
        "# # plotting the heatmap\n",
        "# plt.figure(figsize=(18,15))\n",
        "# sns.heatmap(df.corr(),annot=True, fmt=\".2f\")\n",
        "# plt.title(\"Correlation Between Features\",fontsize=18,color=\"red\");"
      ],
      "metadata": {
        "id": "bcjbWM-QI4Lv"
      },
      "execution_count": null,
      "outputs": []
    },
    {
      "cell_type": "code",
      "source": [
        "unrelevant_columns = [\"SEX\",\"PREGNANT\",\"COPD\",\"ASTHMA\",\"INMSUPR\",\"OTHER_DISEASE\",\"CARDIOVASCULAR\",\n",
        "                      \"OBESITY\",\"TOBACCO\"]\n",
        "\n",
        "df.drop(columns=unrelevant_columns,inplace=True)"
      ],
      "metadata": {
        "id": "B7w9S5kfoNl1"
      },
      "execution_count": null,
      "outputs": []
    },
    {
      "cell_type": "code",
      "source": [],
      "metadata": {
        "id": "KEnbVKhAiEkt"
      },
      "execution_count": null,
      "outputs": []
    },
    {
      "cell_type": "markdown",
      "source": [
        "## Preparing non binary catagorical features"
      ],
      "metadata": {
        "id": "EE364gHNjG7q"
      }
    },
    {
      "cell_type": "code",
      "source": [
        "df = pd.get_dummies(df,columns=[\"MEDICAL_UNIT\",\"CLASIFFICATION_FINAL\"],drop_first=True)"
      ],
      "metadata": {
        "id": "yXu2X4jYjNrh"
      },
      "execution_count": null,
      "outputs": []
    },
    {
      "cell_type": "code",
      "source": [
        "df.head"
      ],
      "metadata": {
        "colab": {
          "base_uri": "https://localhost:8080/"
        },
        "id": "1GgblZnxjavo",
        "outputId": "5ce30131-f09f-4a17-a003-f8744f3ea4fd"
      },
      "execution_count": null,
      "outputs": [
        {
          "output_type": "execute_result",
          "data": {
            "text/plain": [
              "<bound method NDFrame.head of         USMER  PATIENT_TYPE  PNEUMONIA  AGE  DIABETES  HIPERTENSION  \\\n",
              "0           2             1        1.0   65       2.0           1.0   \n",
              "1           2             1        1.0   72       2.0           1.0   \n",
              "2           2             2        2.0   55       1.0           2.0   \n",
              "3           2             1        2.0   53       2.0           2.0   \n",
              "4           2             1        2.0   68       1.0           1.0   \n",
              "...       ...           ...        ...  ...       ...           ...   \n",
              "421547      2             1        2.0   68       1.0           1.0   \n",
              "421548      2             1        2.0   14       2.0           2.0   \n",
              "421549      2             1        2.0   43       2.0           2.0   \n",
              "421550      2             1        2.0   54       2.0           2.0   \n",
              "421551      2             1        2.0   46       2.0           2.0   \n",
              "\n",
              "        RENAL_CHRONIC  DEATH  MEDICAL_UNIT_2  MEDICAL_UNIT_3  ...  \\\n",
              "0                 2.0      1               0               0  ...   \n",
              "1                 1.0      1               0               0  ...   \n",
              "2                 2.0      1               0               0  ...   \n",
              "3                 2.0      1               0               0  ...   \n",
              "4                 2.0      1               0               0  ...   \n",
              "...               ...    ...             ...             ...  ...   \n",
              "421547            1.0      2               0               0  ...   \n",
              "421548            2.0      2               0               0  ...   \n",
              "421549            2.0      2               0               0  ...   \n",
              "421550            2.0      2               0               0  ...   \n",
              "421551            2.0      2               0               0  ...   \n",
              "\n",
              "        MEDICAL_UNIT_6  MEDICAL_UNIT_7  MEDICAL_UNIT_8  MEDICAL_UNIT_9  \\\n",
              "0                    0               0               0               0   \n",
              "1                    0               0               0               0   \n",
              "2                    0               0               0               0   \n",
              "3                    0               0               0               0   \n",
              "4                    0               0               0               0   \n",
              "...                ...             ...             ...             ...   \n",
              "421547               0               0               0               1   \n",
              "421548               0               0               0               1   \n",
              "421549               0               0               0               1   \n",
              "421550               0               0               0               1   \n",
              "421551               0               0               0               1   \n",
              "\n",
              "        CLASIFFICATION_FINAL_2.0  CLASIFFICATION_FINAL_3.0  \\\n",
              "0                              0                         1   \n",
              "1                              0                         0   \n",
              "2                              0                         1   \n",
              "3                              0                         0   \n",
              "4                              0                         1   \n",
              "...                          ...                       ...   \n",
              "421547                         0                         0   \n",
              "421548                         0                         0   \n",
              "421549                         0                         0   \n",
              "421550                         0                         0   \n",
              "421551                         0                         0   \n",
              "\n",
              "        CLASIFFICATION_FINAL_4.0  CLASIFFICATION_FINAL_5.0  \\\n",
              "0                              0                         0   \n",
              "1                              0                         1   \n",
              "2                              0                         0   \n",
              "3                              0                         0   \n",
              "4                              0                         0   \n",
              "...                          ...                       ...   \n",
              "421547                         0                         0   \n",
              "421548                         0                         0   \n",
              "421549                         0                         0   \n",
              "421550                         0                         0   \n",
              "421551                         0                         0   \n",
              "\n",
              "        CLASIFFICATION_FINAL_6.0  CLASIFFICATION_FINAL_7.0  \n",
              "0                              0                         0  \n",
              "1                              0                         0  \n",
              "2                              0                         0  \n",
              "3                              0                         1  \n",
              "4                              0                         0  \n",
              "...                          ...                       ...  \n",
              "421547                         0                         1  \n",
              "421548                         0                         1  \n",
              "421549                         0                         1  \n",
              "421550                         0                         1  \n",
              "421551                         0                         1  \n",
              "\n",
              "[409409 rows x 22 columns]>"
            ]
          },
          "metadata": {},
          "execution_count": 16
        }
      ]
    },
    {
      "cell_type": "code",
      "source": [
        "df.to_csv('covid-clean-unnormalized.csv')"
      ],
      "metadata": {
        "id": "Nq8Yypxsjdym"
      },
      "execution_count": null,
      "outputs": []
    },
    {
      "cell_type": "code",
      "source": [],
      "metadata": {
        "id": "SgJJRx6OkQkm"
      },
      "execution_count": null,
      "outputs": []
    }
  ]
}